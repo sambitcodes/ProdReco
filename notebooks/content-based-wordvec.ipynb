{
 "cells": [
  {
   "cell_type": "code",
   "execution_count": 16,
   "id": "4ba5e46d",
   "metadata": {},
   "outputs": [],
   "source": [
    "import numpy as np\n",
    "import pandas as pd\n",
    "import re\n",
    "import nltk\n",
    "import string\n",
    "import joblib\n",
    "import pickle\n",
    "from nltk.stem import PorterStemmer, WordNetLemmatizer\n",
    "from nltk.corpus import stopwords\n",
    "from nltk.tokenize import word_tokenize\n",
    "from sklearn.feature_extraction.text import TfidfVectorizer\n",
    "from sklearn.feature_extraction.text import CountVectorizer\n",
    "from sklearn.metrics.pairwise import cosine_similarity\n",
    "from gensim import models\n",
    "import tensorflow as tf\n",
    "from tensorflow import keras\n",
    "from tensorflow.keras.preprocessing.text import Tokenizer\n",
    "from tensorflow.keras.preprocessing.sequence import pad_sequences\n",
    "from gensim.models.phrases import Phrases, Phraser\n",
    "from gensim.models import FastText\n",
    "import bz2file as bz2\n",
    "import os"
   ]
  },
  {
   "cell_type": "code",
   "execution_count": 2,
   "id": "89357b83",
   "metadata": {},
   "outputs": [],
   "source": [
    "data = pd.read_csv('../data/flipkart-data.csv')"
   ]
  },
  {
   "cell_type": "code",
   "execution_count": 3,
   "id": "d634d406",
   "metadata": {},
   "outputs": [
    {
     "data": {
      "text/html": [
       "<div>\n",
       "<style scoped>\n",
       "    .dataframe tbody tr th:only-of-type {\n",
       "        vertical-align: middle;\n",
       "    }\n",
       "\n",
       "    .dataframe tbody tr th {\n",
       "        vertical-align: top;\n",
       "    }\n",
       "\n",
       "    .dataframe thead th {\n",
       "        text-align: right;\n",
       "    }\n",
       "</style>\n",
       "<table border=\"1\" class=\"dataframe\">\n",
       "  <thead>\n",
       "    <tr style=\"text-align: right;\">\n",
       "      <th></th>\n",
       "      <th>uniq_id</th>\n",
       "      <th>crawl_timestamp</th>\n",
       "      <th>product_url</th>\n",
       "      <th>product_name</th>\n",
       "      <th>product_category_tree</th>\n",
       "      <th>pid</th>\n",
       "      <th>retail_price</th>\n",
       "      <th>discounted_price</th>\n",
       "      <th>image</th>\n",
       "      <th>is_FK_Advantage_product</th>\n",
       "      <th>description</th>\n",
       "      <th>product_rating</th>\n",
       "      <th>overall_rating</th>\n",
       "      <th>brand</th>\n",
       "      <th>product_specifications</th>\n",
       "    </tr>\n",
       "  </thead>\n",
       "  <tbody>\n",
       "    <tr>\n",
       "      <th>12389</th>\n",
       "      <td>6f3eb7b1b19064d97243d555ede3d57b</td>\n",
       "      <td>2015-12-30 00:17:46 +0000</td>\n",
       "      <td>http://www.flipkart.com/stilestreet-women-s-so...</td>\n",
       "      <td>Stilestreet Women's Solid Casual Shirt</td>\n",
       "      <td>[\"Clothing &gt;&gt; Women's Clothing &gt;&gt; Western Wear...</td>\n",
       "      <td>SHTE5D78BGJFE53R</td>\n",
       "      <td>695.0</td>\n",
       "      <td>349.0</td>\n",
       "      <td>[\"http://img5a.flixcart.com/image/shirt/m/z/z/...</td>\n",
       "      <td>False</td>\n",
       "      <td>Stilestreet Women's Solid Casual Shirt - Buy Y...</td>\n",
       "      <td>No rating available</td>\n",
       "      <td>No rating available</td>\n",
       "      <td>Regular</td>\n",
       "      <td>{\"product_specification\"=&gt;[{\"key\"=&gt;\"Pattern\", ...</td>\n",
       "    </tr>\n",
       "  </tbody>\n",
       "</table>\n",
       "</div>"
      ],
      "text/plain": [
       "                                uniq_id            crawl_timestamp  \\\n",
       "12389  6f3eb7b1b19064d97243d555ede3d57b  2015-12-30 00:17:46 +0000   \n",
       "\n",
       "                                             product_url  \\\n",
       "12389  http://www.flipkart.com/stilestreet-women-s-so...   \n",
       "\n",
       "                                 product_name  \\\n",
       "12389  Stilestreet Women's Solid Casual Shirt   \n",
       "\n",
       "                                   product_category_tree               pid  \\\n",
       "12389  [\"Clothing >> Women's Clothing >> Western Wear...  SHTE5D78BGJFE53R   \n",
       "\n",
       "       retail_price  discounted_price  \\\n",
       "12389         695.0             349.0   \n",
       "\n",
       "                                                   image  \\\n",
       "12389  [\"http://img5a.flixcart.com/image/shirt/m/z/z/...   \n",
       "\n",
       "      is_FK_Advantage_product  \\\n",
       "12389                   False   \n",
       "\n",
       "                                             description       product_rating  \\\n",
       "12389  Stilestreet Women's Solid Casual Shirt - Buy Y...  No rating available   \n",
       "\n",
       "            overall_rating    brand  \\\n",
       "12389  No rating available  Regular   \n",
       "\n",
       "                                  product_specifications  \n",
       "12389  {\"product_specification\"=>[{\"key\"=>\"Pattern\", ...  "
      ]
     },
     "execution_count": 3,
     "metadata": {},
     "output_type": "execute_result"
    }
   ],
   "source": [
    "data.sample()"
   ]
  },
  {
   "cell_type": "code",
   "execution_count": 4,
   "id": "8690219e",
   "metadata": {},
   "outputs": [
    {
     "data": {
      "text/plain": [
       "Index(['uniq_id', 'crawl_timestamp', 'product_url', 'product_name',\n",
       "       'product_category_tree', 'pid', 'retail_price', 'discounted_price',\n",
       "       'image', 'is_FK_Advantage_product', 'description', 'product_rating',\n",
       "       'overall_rating', 'brand', 'product_specifications'],\n",
       "      dtype='object')"
      ]
     },
     "execution_count": 4,
     "metadata": {},
     "output_type": "execute_result"
    }
   ],
   "source": [
    "data.columns"
   ]
  },
  {
   "cell_type": "markdown",
   "id": "ee27f4cb",
   "metadata": {},
   "source": [
    "* ## Working Data Function"
   ]
  },
  {
   "cell_type": "code",
   "execution_count": 5,
   "id": "d2a13583",
   "metadata": {},
   "outputs": [],
   "source": [
    "def working_data(data):\n",
    "\n",
    "    def normalize_text(text):\n",
    "        text = text.lower()  # Convert text to lowercase\n",
    "        text = re.sub('https?://\\S+|www\\.\\S+', '', text)  # Remove URLs\n",
    "        text = re.sub('[^A-Za-z0-9]+', ' ', text)  # Remove non-alphanumeric characters (special chars)\n",
    "        text = re.sub('\\n', ' ', text)  # Remove newlines\n",
    "        text = re.sub(' +', ' ', text)  # Remove extra spaces\n",
    "        text = text.strip()  # Remove leading/trailing spaces\n",
    "        return text\n",
    "       \n",
    "    def repair(text):\n",
    "        text = str(text)\n",
    "        pattern = re.compile('[\\([{})\\]]')\n",
    "        text= pattern.sub(r'',text)\n",
    "        text = text.replace('\"','')\n",
    "        text = text.replace(',','')\n",
    "        text = text.replace('&','')\n",
    "        pattern = re.compile('>>')\n",
    "        return pattern.sub(r'',text)\n",
    "    \n",
    "    def remove_stopwords(text):\n",
    "        stop_words = set(stopwords.words('english'))  # Use set for faster lookups\n",
    "        words = text.split()\n",
    "        filtered_sentence = ' '.join([word for word in words if word not in stop_words])\n",
    "        return filtered_sentence\n",
    "    \n",
    "    def remove_punctuation(text):\n",
    "        table = str.maketrans('', '', string.punctuation)  # Create translation table\n",
    "        words = text.split()\n",
    "        filtered_sentence = ' '.join([word.translate(table) for word in words])  # Efficient punctuation removal\n",
    "        return filtered_sentence\n",
    "    \n",
    "    def stemming(text):\n",
    "        text = str(text)\n",
    "        stemmer = PorterStemmer()\n",
    "        return \" \".join([stemmer.stem(word) for word in text.split()])\n",
    "    \n",
    "    def lemmatizing(text):\n",
    "        text = str(text)\n",
    "        lemmet = WordNetLemmatizer()\n",
    "        return \" \".join([lemmet.lemmatize(word) for word in text.split()])\n",
    "\n",
    "    print(\"step 1 : Cleaning product_category_tree.....\")\n",
    "    data['product_category_tree'] = data['product_category_tree'].apply(repair)\n",
    "    \n",
    "    print(\"step 2 : Cleaning description.....\")\n",
    "    data['description'] = data['description'].apply(repair)\n",
    "\n",
    "    print(\"step 3 : Creating 'desc' column.....\")\n",
    "    data['desc'] = data['product_category_tree']+data['description']\n",
    "    \n",
    "    print(\"step 4 : Normalizing 'desc' column.....\")\n",
    "    data['desc'] = data['desc'].apply(normalize_text)\n",
    "\n",
    "    print(\"step 5 : stopwords removal 'desc'.....\")\n",
    "    data['desc'] = data['desc'].apply(remove_stopwords)\n",
    "\n",
    "    print(\"step 6: Removing punctuation 'desc'.....\")\n",
    "    data['desc'] = data['desc'].apply(remove_punctuation)\n",
    "\n",
    "    print(\"step 7 : Stemming 'desc' column.....\")\n",
    "    data['desc'] = data['desc'].apply(stemming)\n",
    "    \n",
    "    print(\"step 8 : Lemmatizing 'desc' column.....\")\n",
    "    data['desc'] = data['desc'].apply(lemmatizing)\n",
    "    \n",
    "    print(\"step 9 : Dropping unnecessary columns.....\")\n",
    "    data = data.drop(['uniq_id', 'crawl_timestamp', 'product_url', 'retail_price',\n",
    "                       'discounted_price','image', 'is_FK_Advantage_product', 'product_rating',\n",
    "                       'overall_rating','brand','product_specifications','product_category_tree','description'],axis=1)\n",
    "    \n",
    "    print(\"step 10 : Dropping null values.....\")\n",
    "    data.dropna(inplace=True)\n",
    "    \n",
    "    print(\"step 11 : ReCreating 'pid' column.....\")\n",
    "    data['pid'] = range(1, 20001)\n",
    "    \n",
    "\n",
    "    return data"
   ]
  },
  {
   "cell_type": "code",
   "execution_count": 6,
   "id": "eb84719e",
   "metadata": {},
   "outputs": [
    {
     "name": "stdout",
     "output_type": "stream",
     "text": [
      "step 1 : Cleaning product_category_tree.....\n",
      "step 2 : Cleaning description.....\n",
      "step 3 : Creating 'desc' column.....\n",
      "step 4 : Normalizing 'desc' column.....\n",
      "step 5 : stopwords removal 'desc'.....\n",
      "step 6: Removing punctuation 'desc'.....\n",
      "step 7 : Stemming 'desc' column.....\n",
      "step 8 : Lemmatizing 'desc' column.....\n",
      "step 9 : Dropping unnecessary columns.....\n",
      "step 10 : Dropping null values.....\n",
      "step 11 : ReCreating 'pid' column.....\n"
     ]
    }
   ],
   "source": [
    "working_data = working_data(data)"
   ]
  },
  {
   "cell_type": "code",
   "execution_count": 7,
   "id": "e47bd171",
   "metadata": {},
   "outputs": [
    {
     "data": {
      "text/html": [
       "<div>\n",
       "<style scoped>\n",
       "    .dataframe tbody tr th:only-of-type {\n",
       "        vertical-align: middle;\n",
       "    }\n",
       "\n",
       "    .dataframe tbody tr th {\n",
       "        vertical-align: top;\n",
       "    }\n",
       "\n",
       "    .dataframe thead th {\n",
       "        text-align: right;\n",
       "    }\n",
       "</style>\n",
       "<table border=\"1\" class=\"dataframe\">\n",
       "  <thead>\n",
       "    <tr style=\"text-align: right;\">\n",
       "      <th></th>\n",
       "      <th>product_name</th>\n",
       "      <th>pid</th>\n",
       "      <th>desc</th>\n",
       "    </tr>\n",
       "  </thead>\n",
       "  <tbody>\n",
       "    <tr>\n",
       "      <th>706</th>\n",
       "      <td>Navaksha Necktie Men's  Combo</td>\n",
       "      <td>707</td>\n",
       "      <td>cloth men cloth navaksha men clothingnavaksha ...</td>\n",
       "    </tr>\n",
       "    <tr>\n",
       "      <th>19853</th>\n",
       "      <td>Wallmantra Extra Large Vinyl Sticker Sticker</td>\n",
       "      <td>19854</td>\n",
       "      <td>babi care babi kid gift sticker wallmantra sti...</td>\n",
       "    </tr>\n",
       "    <tr>\n",
       "      <th>14172</th>\n",
       "      <td>Orange and Orchid Solid, Printed Men's Round N...</td>\n",
       "      <td>14173</td>\n",
       "      <td>cloth men cloth shirt orang orchid shirtsorang...</td>\n",
       "    </tr>\n",
       "    <tr>\n",
       "      <th>17798</th>\n",
       "      <td>Antshrike Men's Pyjama</td>\n",
       "      <td>17799</td>\n",
       "      <td>cloth men cloth inner wear sleep wear pyjama l...</td>\n",
       "    </tr>\n",
       "    <tr>\n",
       "      <th>3216</th>\n",
       "      <td>Quilt India Floral Cushions Cover</td>\n",
       "      <td>3217</td>\n",
       "      <td>home furnish cushion pillow cover cushion cove...</td>\n",
       "    </tr>\n",
       "  </tbody>\n",
       "</table>\n",
       "</div>"
      ],
      "text/plain": [
       "                                            product_name    pid  \\\n",
       "706                        Navaksha Necktie Men's  Combo    707   \n",
       "19853       Wallmantra Extra Large Vinyl Sticker Sticker  19854   \n",
       "14172  Orange and Orchid Solid, Printed Men's Round N...  14173   \n",
       "17798                             Antshrike Men's Pyjama  17799   \n",
       "3216                   Quilt India Floral Cushions Cover   3217   \n",
       "\n",
       "                                                    desc  \n",
       "706    cloth men cloth navaksha men clothingnavaksha ...  \n",
       "19853  babi care babi kid gift sticker wallmantra sti...  \n",
       "14172  cloth men cloth shirt orang orchid shirtsorang...  \n",
       "17798  cloth men cloth inner wear sleep wear pyjama l...  \n",
       "3216   home furnish cushion pillow cover cushion cove...  "
      ]
     },
     "execution_count": 7,
     "metadata": {},
     "output_type": "execute_result"
    }
   ],
   "source": [
    "working_data.sample(5)"
   ]
  },
  {
   "cell_type": "markdown",
   "id": "742f8dec",
   "metadata": {},
   "source": [
    "* ## Word2Vec function"
   ]
  },
  {
   "cell_type": "code",
   "execution_count": 8,
   "id": "81076c1e",
   "metadata": {},
   "outputs": [],
   "source": [
    "def word_to_vector(data):\n",
    "    print(\"Creating word2vec matrix.....\")\n",
    "    tokenized_sentences = data['desc'].apply(lambda x: x.split())\n",
    "    vector_size = 100  # Size of the word vectors\n",
    "    w2v_model = models.Word2Vec(sentences=tokenized_sentences, vector_size=vector_size, window=5, min_count=1, workers=4)\n",
    "    sentence_embeddings = []\n",
    "    for sentence in tokenized_sentences:\n",
    "        vectors = [w2v_model.wv[word] for word in sentence if word in w2v_model.wv]\n",
    "        if vectors:\n",
    "            sentence_embeddings.append(np.mean(vectors, axis=0))\n",
    "        else:\n",
    "            sentence_embeddings.append(np.zeros(vector_size))  # fallback for empty sentences\n",
    "    w2v_matrix = np.array(sentence_embeddings)\n",
    "    return w2v_matrix, w2v_model"
   ]
  },
  {
   "cell_type": "code",
   "execution_count": 9,
   "id": "3d2d739c",
   "metadata": {},
   "outputs": [
    {
     "name": "stdout",
     "output_type": "stream",
     "text": [
      "Creating word2vec matrix.....\n"
     ]
    }
   ],
   "source": [
    "w2v_matrix, w2v_model = word_to_vector(working_data)"
   ]
  },
  {
   "cell_type": "code",
   "execution_count": 10,
   "id": "b84ba6b9",
   "metadata": {},
   "outputs": [
    {
     "data": {
      "text/plain": [
       "(20000, 100)"
      ]
     },
     "execution_count": 10,
     "metadata": {},
     "output_type": "execute_result"
    }
   ],
   "source": [
    "w2v_matrix.shape"
   ]
  },
  {
   "cell_type": "markdown",
   "id": "3d8aa060",
   "metadata": {},
   "source": [
    "* ## Similarity-Matrix function"
   ]
  },
  {
   "cell_type": "code",
   "execution_count": 11,
   "id": "56b3486c",
   "metadata": {},
   "outputs": [],
   "source": [
    "def similarity_matrix(matrix):\n",
    "    print(\"Calculating similarity matrix.....\")\n",
    "    similarity_matrix = cosine_similarity(matrix)\n",
    "    return similarity_matrix"
   ]
  },
  {
   "cell_type": "code",
   "execution_count": 12,
   "id": "0a81ece5",
   "metadata": {},
   "outputs": [
    {
     "name": "stdout",
     "output_type": "stream",
     "text": [
      "Calculating similarity matrix.....\n"
     ]
    }
   ],
   "source": [
    "similarity_matrix_w2v = similarity_matrix(w2v_matrix)"
   ]
  },
  {
   "cell_type": "markdown",
   "id": "6c113d12",
   "metadata": {},
   "source": [
    "* ## Recommend function"
   ]
  },
  {
   "cell_type": "code",
   "execution_count": 13,
   "id": "3aded50e",
   "metadata": {},
   "outputs": [],
   "source": [
    "def recommend_products(product,similarity_model):\n",
    "    product_index = data[data['product_name'] == product].index[0]\n",
    "    distances = similarity_model[product_index]\n",
    "    product_list = sorted(list(enumerate(distances)),reverse=True,key=lambda x: x[1])[1:6]\n",
    "    output={}\n",
    "    name_list = []\n",
    "    sim_list = []\n",
    "    for x in product_list:\n",
    "        prod_name = data.iloc[x[0]].product_name\n",
    "        name_list.append(prod_name)\n",
    "        prod_sim = np.round((x[1]*100),2)\n",
    "        sim_list.append(prod_sim)\n",
    "        \n",
    "    print('Checked Product :::::   ',product)    \n",
    "    name_list=np.array(name_list)\n",
    "    sim_list=np.array(sim_list)\n",
    "    dat = np.reshape([[name_list],[sim_list]],(2,5))\n",
    "    df = pd.DataFrame(dat.T,columns=['Recommended Product','Similarity(%age)'],index=[0,1,2,3,4])\n",
    "    return df"
   ]
  },
  {
   "cell_type": "markdown",
   "id": "a4ab225c",
   "metadata": {},
   "source": [
    "* ## Recommended output"
   ]
  },
  {
   "cell_type": "code",
   "execution_count": 14,
   "id": "2c99e7d7",
   "metadata": {},
   "outputs": [
    {
     "name": "stdout",
     "output_type": "stream",
     "text": [
      "Checked Product :::::    Rorlig RR-028 Expedition Analog Watch  - For Men, Boys\n"
     ]
    },
    {
     "data": {
      "text/html": [
       "<div>\n",
       "<style scoped>\n",
       "    .dataframe tbody tr th:only-of-type {\n",
       "        vertical-align: middle;\n",
       "    }\n",
       "\n",
       "    .dataframe tbody tr th {\n",
       "        vertical-align: top;\n",
       "    }\n",
       "\n",
       "    .dataframe thead th {\n",
       "        text-align: right;\n",
       "    }\n",
       "</style>\n",
       "<table border=\"1\" class=\"dataframe\">\n",
       "  <thead>\n",
       "    <tr style=\"text-align: right;\">\n",
       "      <th></th>\n",
       "      <th>Recommended Product</th>\n",
       "      <th>Similarity(%age)</th>\n",
       "    </tr>\n",
       "  </thead>\n",
       "  <tbody>\n",
       "    <tr>\n",
       "      <th>0</th>\n",
       "      <td>Rorlig RR-030 Essentials Analog Watch  - For M...</td>\n",
       "      <td>99.9</td>\n",
       "    </tr>\n",
       "    <tr>\n",
       "      <th>1</th>\n",
       "      <td>Fastrack 9912PP15 Tees Analog Watch  - For Men...</td>\n",
       "      <td>93.68</td>\n",
       "    </tr>\n",
       "    <tr>\n",
       "      <th>2</th>\n",
       "      <td>Nexus NX_7557 Analog Watch  - For Women</td>\n",
       "      <td>92.34</td>\n",
       "    </tr>\n",
       "    <tr>\n",
       "      <th>3</th>\n",
       "      <td>Escort E-1700-906_Blk Analog Watch  - For Men,...</td>\n",
       "      <td>91.33</td>\n",
       "    </tr>\n",
       "    <tr>\n",
       "      <th>4</th>\n",
       "      <td>Ridas 1825_black Sports Analog Watch  - For Men</td>\n",
       "      <td>91.18</td>\n",
       "    </tr>\n",
       "  </tbody>\n",
       "</table>\n",
       "</div>"
      ],
      "text/plain": [
       "                                 Recommended Product Similarity(%age)\n",
       "0  Rorlig RR-030 Essentials Analog Watch  - For M...             99.9\n",
       "1  Fastrack 9912PP15 Tees Analog Watch  - For Men...            93.68\n",
       "2            Nexus NX_7557 Analog Watch  - For Women            92.34\n",
       "3  Escort E-1700-906_Blk Analog Watch  - For Men,...            91.33\n",
       "4    Ridas 1825_black Sports Analog Watch  - For Men            91.18"
      ]
     },
     "execution_count": 14,
     "metadata": {},
     "output_type": "execute_result"
    }
   ],
   "source": [
    "product = data.iloc[100].product_name\n",
    "recommend_products(product,similarity_matrix_w2v)"
   ]
  },
  {
   "cell_type": "markdown",
   "id": "13890412",
   "metadata": {},
   "source": [
    "* ## Export Model"
   ]
  },
  {
   "cell_type": "code",
   "execution_count": 15,
   "id": "3e92e93b",
   "metadata": {},
   "outputs": [],
   "source": [
    "pickle.dump(similarity_matrix_w2v,open('../models/similarity_w2v.pkl','wb'))"
   ]
  },
  {
   "cell_type": "code",
   "execution_count": 17,
   "id": "a2432865",
   "metadata": {},
   "outputs": [
    {
     "name": "stdout",
     "output_type": "stream",
     "text": [
      "1600000163\n"
     ]
    }
   ],
   "source": [
    "print(os.path.getsize(\"../models/similarity_w2v.pkl\"))"
   ]
  },
  {
   "cell_type": "code",
   "execution_count": 20,
   "id": "9425ed4a",
   "metadata": {},
   "outputs": [],
   "source": [
    "ofile = bz2.BZ2File(\"../models/similarity_w2v\",'wb')\n",
    "pickle.dump(similarity_matrix_w2v,ofile)\n",
    "ofile.close()"
   ]
  },
  {
   "cell_type": "code",
   "execution_count": 21,
   "id": "6749fa8b",
   "metadata": {},
   "outputs": [
    {
     "name": "stdout",
     "output_type": "stream",
     "text": [
      "1397074182\n"
     ]
    }
   ],
   "source": [
    "print(os.path.getsize(\"../models/similarity_w2v\"))"
   ]
  },
  {
   "cell_type": "code",
   "execution_count": null,
   "id": "4d4d566c",
   "metadata": {},
   "outputs": [],
   "source": []
  }
 ],
 "metadata": {
  "kernelspec": {
   "display_name": "test_env",
   "language": "python",
   "name": "python3"
  },
  "language_info": {
   "codemirror_mode": {
    "name": "ipython",
    "version": 3
   },
   "file_extension": ".py",
   "mimetype": "text/x-python",
   "name": "python",
   "nbconvert_exporter": "python",
   "pygments_lexer": "ipython3",
   "version": "3.11.11"
  }
 },
 "nbformat": 4,
 "nbformat_minor": 5
}
