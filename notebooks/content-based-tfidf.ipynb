{
 "cells": [
  {
   "cell_type": "code",
   "execution_count": 17,
   "id": "067e51ba",
   "metadata": {},
   "outputs": [],
   "source": [
    "import numpy as np\n",
    "import pandas as pd\n",
    "import re\n",
    "import nltk\n",
    "import string\n",
    "import joblib\n",
    "import pickle\n",
    "from nltk.stem import PorterStemmer, WordNetLemmatizer\n",
    "from nltk.corpus import stopwords\n",
    "from nltk.tokenize import word_tokenize\n",
    "from sklearn.feature_extraction.text import TfidfVectorizer\n",
    "from sklearn.feature_extraction.text import CountVectorizer\n",
    "from sklearn.metrics.pairwise import cosine_similarity\n",
    "from gensim import models\n",
    "import tensorflow as tf\n",
    "from tensorflow import keras\n",
    "from tensorflow.keras.preprocessing.text import Tokenizer\n",
    "from tensorflow.keras.preprocessing.sequence import pad_sequences\n",
    "from gensim.models.phrases import Phrases, Phraser\n",
    "from gensim.models import FastText\n",
    "import bz2file as bz2\n",
    "import os"
   ]
  },
  {
   "cell_type": "code",
   "execution_count": 3,
   "id": "95ccdfcc",
   "metadata": {},
   "outputs": [],
   "source": [
    "data = pd.read_csv('../data/flipkart-data.csv')"
   ]
  },
  {
   "cell_type": "code",
   "execution_count": 4,
   "id": "b52d13e1",
   "metadata": {},
   "outputs": [
    {
     "data": {
      "text/html": [
       "<div>\n",
       "<style scoped>\n",
       "    .dataframe tbody tr th:only-of-type {\n",
       "        vertical-align: middle;\n",
       "    }\n",
       "\n",
       "    .dataframe tbody tr th {\n",
       "        vertical-align: top;\n",
       "    }\n",
       "\n",
       "    .dataframe thead th {\n",
       "        text-align: right;\n",
       "    }\n",
       "</style>\n",
       "<table border=\"1\" class=\"dataframe\">\n",
       "  <thead>\n",
       "    <tr style=\"text-align: right;\">\n",
       "      <th></th>\n",
       "      <th>uniq_id</th>\n",
       "      <th>crawl_timestamp</th>\n",
       "      <th>product_url</th>\n",
       "      <th>product_name</th>\n",
       "      <th>product_category_tree</th>\n",
       "      <th>pid</th>\n",
       "      <th>retail_price</th>\n",
       "      <th>discounted_price</th>\n",
       "      <th>image</th>\n",
       "      <th>is_FK_Advantage_product</th>\n",
       "      <th>description</th>\n",
       "      <th>product_rating</th>\n",
       "      <th>overall_rating</th>\n",
       "      <th>brand</th>\n",
       "      <th>product_specifications</th>\n",
       "    </tr>\n",
       "  </thead>\n",
       "  <tbody>\n",
       "    <tr>\n",
       "      <th>766</th>\n",
       "      <td>5c572e1ca891dc7cfe6dd5f59be770c8</td>\n",
       "      <td>2016-01-06 18:20:45 +0000</td>\n",
       "      <td>http://www.flipkart.com/my-little-joy-casual-s...</td>\n",
       "      <td>My Little Joy Casual Short Sleeve Printed Baby...</td>\n",
       "      <td>[\"Baby Care &gt;&gt; Infant Wear &gt;&gt; Baby Girls' Clot...</td>\n",
       "      <td>TOPEBKYKHZ74DT6U</td>\n",
       "      <td>599.0</td>\n",
       "      <td>299.0</td>\n",
       "      <td>[\"http://img6a.flixcart.com/image/top/3/y/f/24...</td>\n",
       "      <td>False</td>\n",
       "      <td>My Little Joy Casual Short Sleeve Printed Baby...</td>\n",
       "      <td>No rating available</td>\n",
       "      <td>No rating available</td>\n",
       "      <td>NaN</td>\n",
       "      <td>{\"product_specification\"=&gt;[{\"key\"=&gt;\"Ideal For\"...</td>\n",
       "    </tr>\n",
       "  </tbody>\n",
       "</table>\n",
       "</div>"
      ],
      "text/plain": [
       "                              uniq_id            crawl_timestamp  \\\n",
       "766  5c572e1ca891dc7cfe6dd5f59be770c8  2016-01-06 18:20:45 +0000   \n",
       "\n",
       "                                           product_url  \\\n",
       "766  http://www.flipkart.com/my-little-joy-casual-s...   \n",
       "\n",
       "                                          product_name  \\\n",
       "766  My Little Joy Casual Short Sleeve Printed Baby...   \n",
       "\n",
       "                                 product_category_tree               pid  \\\n",
       "766  [\"Baby Care >> Infant Wear >> Baby Girls' Clot...  TOPEBKYKHZ74DT6U   \n",
       "\n",
       "     retail_price  discounted_price  \\\n",
       "766         599.0             299.0   \n",
       "\n",
       "                                                 image  \\\n",
       "766  [\"http://img6a.flixcart.com/image/top/3/y/f/24...   \n",
       "\n",
       "    is_FK_Advantage_product  \\\n",
       "766                   False   \n",
       "\n",
       "                                           description       product_rating  \\\n",
       "766  My Little Joy Casual Short Sleeve Printed Baby...  No rating available   \n",
       "\n",
       "          overall_rating brand  \\\n",
       "766  No rating available   NaN   \n",
       "\n",
       "                                product_specifications  \n",
       "766  {\"product_specification\"=>[{\"key\"=>\"Ideal For\"...  "
      ]
     },
     "execution_count": 4,
     "metadata": {},
     "output_type": "execute_result"
    }
   ],
   "source": [
    "data.sample()"
   ]
  },
  {
   "cell_type": "code",
   "execution_count": 5,
   "id": "ab5acc7a",
   "metadata": {},
   "outputs": [
    {
     "data": {
      "text/plain": [
       "Index(['uniq_id', 'crawl_timestamp', 'product_url', 'product_name',\n",
       "       'product_category_tree', 'pid', 'retail_price', 'discounted_price',\n",
       "       'image', 'is_FK_Advantage_product', 'description', 'product_rating',\n",
       "       'overall_rating', 'brand', 'product_specifications'],\n",
       "      dtype='object')"
      ]
     },
     "execution_count": 5,
     "metadata": {},
     "output_type": "execute_result"
    }
   ],
   "source": [
    "data.columns"
   ]
  },
  {
   "cell_type": "markdown",
   "id": "12c63ea4",
   "metadata": {},
   "source": [
    "* ## Working Data Function"
   ]
  },
  {
   "cell_type": "code",
   "execution_count": 6,
   "id": "92e94b0f",
   "metadata": {},
   "outputs": [],
   "source": [
    "def working_data(data):\n",
    "\n",
    "    def normalize_text(text):\n",
    "        text = text.lower()  # Convert text to lowercase\n",
    "        text = re.sub('https?://\\S+|www\\.\\S+', '', text)  # Remove URLs\n",
    "        text = re.sub('[^A-Za-z0-9]+', ' ', text)  # Remove non-alphanumeric characters (special chars)\n",
    "        text = re.sub('\\n', ' ', text)  # Remove newlines\n",
    "        text = re.sub(' +', ' ', text)  # Remove extra spaces\n",
    "        text = text.strip()  # Remove leading/trailing spaces\n",
    "        return text\n",
    "       \n",
    "    def repair(text):\n",
    "        text = str(text)\n",
    "        pattern = re.compile('[\\([{})\\]]')\n",
    "        text= pattern.sub(r'',text)\n",
    "        text = text.replace('\"','')\n",
    "        text = text.replace(',','')\n",
    "        text = text.replace('&','')\n",
    "        pattern = re.compile('>>')\n",
    "        return pattern.sub(r'',text)\n",
    "    \n",
    "    def remove_stopwords(text):\n",
    "        stop_words = set(stopwords.words('english'))  # Use set for faster lookups\n",
    "        words = text.split()\n",
    "        filtered_sentence = ' '.join([word for word in words if word not in stop_words])\n",
    "        return filtered_sentence\n",
    "    \n",
    "    def remove_punctuation(text):\n",
    "        table = str.maketrans('', '', string.punctuation)  # Create translation table\n",
    "        words = text.split()\n",
    "        filtered_sentence = ' '.join([word.translate(table) for word in words])  # Efficient punctuation removal\n",
    "        return filtered_sentence\n",
    "    \n",
    "    def stemming(text):\n",
    "        text = str(text)\n",
    "        stemmer = PorterStemmer()\n",
    "        return \" \".join([stemmer.stem(word) for word in text.split()])\n",
    "    \n",
    "    def lemmatizing(text):\n",
    "        text = str(text)\n",
    "        lemmet = WordNetLemmatizer()\n",
    "        return \" \".join([lemmet.lemmatize(word) for word in text.split()])\n",
    "\n",
    "    print(\"step 1 : Cleaning product_category_tree.....\")\n",
    "    data['product_category_tree'] = data['product_category_tree'].apply(repair)\n",
    "    \n",
    "    print(\"step 2 : Cleaning description.....\")\n",
    "    data['description'] = data['description'].apply(repair)\n",
    "\n",
    "    print(\"step 3 : Creating 'desc' column.....\")\n",
    "    data['desc'] = data['product_category_tree']+data['description']\n",
    "    \n",
    "    print(\"step 4 : Normalizing 'desc' column.....\")\n",
    "    data['desc'] = data['desc'].apply(normalize_text)\n",
    "\n",
    "    print(\"step 5 : stopwords removal 'desc'.....\")\n",
    "    data['desc'] = data['desc'].apply(remove_stopwords)\n",
    "\n",
    "    print(\"step 6: Removing punctuation 'desc'.....\")\n",
    "    data['desc'] = data['desc'].apply(remove_punctuation)\n",
    "\n",
    "    print(\"step 7 : Stemming 'desc' column.....\")\n",
    "    data['desc'] = data['desc'].apply(stemming)\n",
    "    \n",
    "    print(\"step 8 : Lemmatizing 'desc' column.....\")\n",
    "    data['desc'] = data['desc'].apply(lemmatizing)\n",
    "    \n",
    "    print(\"step 9 : Dropping unnecessary columns.....\")\n",
    "    data = data.drop(['uniq_id', 'crawl_timestamp', 'product_url', 'retail_price',\n",
    "                       'discounted_price','image', 'is_FK_Advantage_product', 'product_rating',\n",
    "                       'overall_rating','brand','product_specifications','product_category_tree','description'],axis=1)\n",
    "    \n",
    "    print(\"step 10 : Dropping null values.....\")\n",
    "    data.dropna(inplace=True)\n",
    "    \n",
    "    print(\"step 11 : ReCreating 'pid' column.....\")\n",
    "    data['pid'] = range(1, 20001)\n",
    "    \n",
    "\n",
    "    return data"
   ]
  },
  {
   "cell_type": "code",
   "execution_count": 7,
   "id": "7e241c26",
   "metadata": {},
   "outputs": [
    {
     "name": "stdout",
     "output_type": "stream",
     "text": [
      "step 1 : Cleaning product_category_tree.....\n",
      "step 2 : Cleaning description.....\n",
      "step 3 : Creating 'desc' column.....\n",
      "step 4 : Normalizing 'desc' column.....\n",
      "step 5 : stopwords removal 'desc'.....\n",
      "step 6: Removing punctuation 'desc'.....\n",
      "step 7 : Stemming 'desc' column.....\n",
      "step 8 : Lemmatizing 'desc' column.....\n",
      "step 9 : Dropping unnecessary columns.....\n",
      "step 10 : Dropping null values.....\n",
      "step 11 : ReCreating 'pid' column.....\n"
     ]
    }
   ],
   "source": [
    "working_data = working_data(data)"
   ]
  },
  {
   "cell_type": "code",
   "execution_count": 8,
   "id": "e243862c",
   "metadata": {},
   "outputs": [
    {
     "data": {
      "text/html": [
       "<div>\n",
       "<style scoped>\n",
       "    .dataframe tbody tr th:only-of-type {\n",
       "        vertical-align: middle;\n",
       "    }\n",
       "\n",
       "    .dataframe tbody tr th {\n",
       "        vertical-align: top;\n",
       "    }\n",
       "\n",
       "    .dataframe thead th {\n",
       "        text-align: right;\n",
       "    }\n",
       "</style>\n",
       "<table border=\"1\" class=\"dataframe\">\n",
       "  <thead>\n",
       "    <tr style=\"text-align: right;\">\n",
       "      <th></th>\n",
       "      <th>product_name</th>\n",
       "      <th>pid</th>\n",
       "      <th>desc</th>\n",
       "    </tr>\n",
       "  </thead>\n",
       "  <tbody>\n",
       "    <tr>\n",
       "      <th>19145</th>\n",
       "      <td>Toons Printed Baby Boy's Round Neck T-Shirt</td>\n",
       "      <td>19146</td>\n",
       "      <td>babi care infant wear babi boy cloth polo shir...</td>\n",
       "    </tr>\n",
       "    <tr>\n",
       "      <th>11771</th>\n",
       "      <td>Shashvat Jewels Silver Necklace</td>\n",
       "      <td>11772</td>\n",
       "      <td>jewelleri necklac chain necklacesshashvat jewe...</td>\n",
       "    </tr>\n",
       "    <tr>\n",
       "      <th>3549</th>\n",
       "      <td>Rockmantra Left 4 Dead Ceramic Mug</td>\n",
       "      <td>3550</td>\n",
       "      <td>kitchen dine coffe mug rockmantra coffe mugsro...</td>\n",
       "    </tr>\n",
       "    <tr>\n",
       "      <th>7614</th>\n",
       "      <td>H D ENTERPRISE 750 ml Cooking Oil Dispenser</td>\n",
       "      <td>7615</td>\n",
       "      <td>kitchen dine contain bottl contain jar oil dis...</td>\n",
       "    </tr>\n",
       "    <tr>\n",
       "      <th>15196</th>\n",
       "      <td>Pilot Roller Ball Pen</td>\n",
       "      <td>15197</td>\n",
       "      <td>pen stationeri pen roller ball pen pilot rolle...</td>\n",
       "    </tr>\n",
       "  </tbody>\n",
       "</table>\n",
       "</div>"
      ],
      "text/plain": [
       "                                      product_name    pid  \\\n",
       "19145  Toons Printed Baby Boy's Round Neck T-Shirt  19146   \n",
       "11771              Shashvat Jewels Silver Necklace  11772   \n",
       "3549            Rockmantra Left 4 Dead Ceramic Mug   3550   \n",
       "7614   H D ENTERPRISE 750 ml Cooking Oil Dispenser   7615   \n",
       "15196                        Pilot Roller Ball Pen  15197   \n",
       "\n",
       "                                                    desc  \n",
       "19145  babi care infant wear babi boy cloth polo shir...  \n",
       "11771  jewelleri necklac chain necklacesshashvat jewe...  \n",
       "3549   kitchen dine coffe mug rockmantra coffe mugsro...  \n",
       "7614   kitchen dine contain bottl contain jar oil dis...  \n",
       "15196  pen stationeri pen roller ball pen pilot rolle...  "
      ]
     },
     "execution_count": 8,
     "metadata": {},
     "output_type": "execute_result"
    }
   ],
   "source": [
    "working_data.sample(5)"
   ]
  },
  {
   "cell_type": "markdown",
   "id": "ff14ce81",
   "metadata": {},
   "source": [
    "* ## TF-IDF function"
   ]
  },
  {
   "cell_type": "code",
   "execution_count": 9,
   "id": "7e116e05",
   "metadata": {},
   "outputs": [],
   "source": [
    "def tfidf(data):\n",
    "    print(\"Creating tf-idf matrix.....\")\n",
    "    tfidf_vectorizer = TfidfVectorizer(stop_words='english')\n",
    "    tfidf_matrix = tfidf_vectorizer.fit_transform(data['desc']).toarray()\n",
    "    return tfidf_matrix, tfidf_vectorizer"
   ]
  },
  {
   "cell_type": "code",
   "execution_count": 10,
   "id": "a311159e",
   "metadata": {},
   "outputs": [
    {
     "name": "stdout",
     "output_type": "stream",
     "text": [
      "Creating tf-idf matrix.....\n"
     ]
    }
   ],
   "source": [
    "tfidf_matrix, tfidf_vectorizer = tfidf(working_data)"
   ]
  },
  {
   "cell_type": "code",
   "execution_count": 11,
   "id": "d9b1c7d4",
   "metadata": {},
   "outputs": [
    {
     "data": {
      "text/plain": [
       "(20000, 27405)"
      ]
     },
     "execution_count": 11,
     "metadata": {},
     "output_type": "execute_result"
    }
   ],
   "source": [
    "tfidf_matrix.shape"
   ]
  },
  {
   "cell_type": "markdown",
   "id": "7cc5d333",
   "metadata": {},
   "source": [
    "* ## Similarity-Matrix function"
   ]
  },
  {
   "cell_type": "code",
   "execution_count": 12,
   "id": "33926961",
   "metadata": {},
   "outputs": [],
   "source": [
    "def similarity_matrix(matrix):\n",
    "    print(\"Calculating similarity matrix.....\")\n",
    "    similarity_matrix = cosine_similarity(matrix)\n",
    "    return similarity_matrix"
   ]
  },
  {
   "cell_type": "code",
   "execution_count": 13,
   "id": "a29b7929",
   "metadata": {},
   "outputs": [
    {
     "name": "stdout",
     "output_type": "stream",
     "text": [
      "Calculating similarity matrix.....\n"
     ]
    }
   ],
   "source": [
    "similarity_matrix_tfidf = similarity_matrix(tfidf_matrix)"
   ]
  },
  {
   "cell_type": "markdown",
   "id": "6d04f8d1",
   "metadata": {},
   "source": [
    "* ## Recommend function"
   ]
  },
  {
   "cell_type": "code",
   "execution_count": 14,
   "id": "c6b82246",
   "metadata": {},
   "outputs": [],
   "source": [
    "def recommend_products(product,similarity_model):\n",
    "    product_index = data[data['product_name'] == product].index[0]\n",
    "    distances = similarity_model[product_index]\n",
    "    product_list = sorted(list(enumerate(distances)),reverse=True,key=lambda x: x[1])[1:6]\n",
    "    output={}\n",
    "    name_list = []\n",
    "    sim_list = []\n",
    "    for x in product_list:\n",
    "        prod_name = data.iloc[x[0]].product_name\n",
    "        name_list.append(prod_name)\n",
    "        prod_sim = np.round((x[1]*100),2)\n",
    "        sim_list.append(prod_sim)\n",
    "        \n",
    "    print('Checked Product :::::   ',product)    \n",
    "    name_list=np.array(name_list)\n",
    "    sim_list=np.array(sim_list)\n",
    "    dat = np.reshape([[name_list],[sim_list]],(2,5))\n",
    "    df = pd.DataFrame(dat.T,columns=['Recommended Product','Similarity(%age)'],index=[0,1,2,3,4])\n",
    "    return df"
   ]
  },
  {
   "cell_type": "markdown",
   "id": "56dee638",
   "metadata": {},
   "source": [
    "* ## Recommended output"
   ]
  },
  {
   "cell_type": "code",
   "execution_count": 15,
   "id": "50af8f8c",
   "metadata": {},
   "outputs": [
    {
     "name": "stdout",
     "output_type": "stream",
     "text": [
      "Checked Product :::::    Rorlig RR-028 Expedition Analog Watch  - For Men, Boys\n"
     ]
    },
    {
     "data": {
      "text/html": [
       "<div>\n",
       "<style scoped>\n",
       "    .dataframe tbody tr th:only-of-type {\n",
       "        vertical-align: middle;\n",
       "    }\n",
       "\n",
       "    .dataframe tbody tr th {\n",
       "        vertical-align: top;\n",
       "    }\n",
       "\n",
       "    .dataframe thead th {\n",
       "        text-align: right;\n",
       "    }\n",
       "</style>\n",
       "<table border=\"1\" class=\"dataframe\">\n",
       "  <thead>\n",
       "    <tr style=\"text-align: right;\">\n",
       "      <th></th>\n",
       "      <th>Recommended Product</th>\n",
       "      <th>Similarity(%age)</th>\n",
       "    </tr>\n",
       "  </thead>\n",
       "  <tbody>\n",
       "    <tr>\n",
       "      <th>0</th>\n",
       "      <td>Rorlig RR-030 Essentials Analog Watch  - For M...</td>\n",
       "      <td>95.33</td>\n",
       "    </tr>\n",
       "    <tr>\n",
       "      <th>1</th>\n",
       "      <td>Luba ghk54 Stylo Analog Watch  - For Women</td>\n",
       "      <td>46.38</td>\n",
       "    </tr>\n",
       "    <tr>\n",
       "      <th>2</th>\n",
       "      <td>Ridas 1825_black Sports Analog Watch  - For Men</td>\n",
       "      <td>44.8</td>\n",
       "    </tr>\n",
       "    <tr>\n",
       "      <th>3</th>\n",
       "      <td>Times 123B0123 Sports Analog Watch  - For Boys</td>\n",
       "      <td>44.12</td>\n",
       "    </tr>\n",
       "    <tr>\n",
       "      <th>4</th>\n",
       "      <td>Times SD_183 Casual Analog Watch  - For Women</td>\n",
       "      <td>41.13</td>\n",
       "    </tr>\n",
       "  </tbody>\n",
       "</table>\n",
       "</div>"
      ],
      "text/plain": [
       "                                 Recommended Product Similarity(%age)\n",
       "0  Rorlig RR-030 Essentials Analog Watch  - For M...            95.33\n",
       "1         Luba ghk54 Stylo Analog Watch  - For Women            46.38\n",
       "2    Ridas 1825_black Sports Analog Watch  - For Men             44.8\n",
       "3     Times 123B0123 Sports Analog Watch  - For Boys            44.12\n",
       "4      Times SD_183 Casual Analog Watch  - For Women            41.13"
      ]
     },
     "execution_count": 15,
     "metadata": {},
     "output_type": "execute_result"
    }
   ],
   "source": [
    "product = data.iloc[100].product_name\n",
    "recommend_products(product,similarity_matrix_tfidf)"
   ]
  },
  {
   "cell_type": "markdown",
   "id": "581ba4b3",
   "metadata": {},
   "source": [
    "* ## Export Model"
   ]
  },
  {
   "cell_type": "code",
   "execution_count": 16,
   "id": "9cb3cc19",
   "metadata": {},
   "outputs": [],
   "source": [
    "pickle.dump(similarity_matrix_tfidf,open('../models/similarity_tfidf.pkl','wb'))"
   ]
  },
  {
   "cell_type": "code",
   "execution_count": 18,
   "id": "d903d0f1",
   "metadata": {},
   "outputs": [
    {
     "name": "stdout",
     "output_type": "stream",
     "text": [
      "3200000163\n"
     ]
    }
   ],
   "source": [
    "print(os.path.getsize(\"../models/similarity_tfidf.pkl\"))"
   ]
  },
  {
   "cell_type": "code",
   "execution_count": 21,
   "id": "87e44297",
   "metadata": {},
   "outputs": [],
   "source": [
    "ofile = bz2.BZ2File(\"../models/similarity_tfidf\",'wb')\n",
    "pickle.dump(similarity_matrix_tfidf,ofile)\n",
    "ofile.close()"
   ]
  },
  {
   "cell_type": "code",
   "execution_count": 22,
   "id": "150f7eb5",
   "metadata": {},
   "outputs": [
    {
     "name": "stdout",
     "output_type": "stream",
     "text": [
      "2301939417\n"
     ]
    }
   ],
   "source": [
    "print(os.path.getsize(\"../models/similarity_tfidf\"))"
   ]
  },
  {
   "cell_type": "code",
   "execution_count": null,
   "id": "75ff8dbc",
   "metadata": {},
   "outputs": [],
   "source": []
  }
 ],
 "metadata": {
  "kernelspec": {
   "display_name": "test_env",
   "language": "python",
   "name": "python3"
  },
  "language_info": {
   "codemirror_mode": {
    "name": "ipython",
    "version": 3
   },
   "file_extension": ".py",
   "mimetype": "text/x-python",
   "name": "python",
   "nbconvert_exporter": "python",
   "pygments_lexer": "ipython3",
   "version": "3.11.11"
  }
 },
 "nbformat": 4,
 "nbformat_minor": 5
}
