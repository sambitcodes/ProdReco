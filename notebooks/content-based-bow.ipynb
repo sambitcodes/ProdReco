{
 "cells": [
  {
   "cell_type": "code",
   "execution_count": 6,
   "id": "3877a025",
   "metadata": {},
   "outputs": [],
   "source": [
    "import numpy as np\n",
    "import pandas as pd\n",
    "import re\n",
    "import nltk\n",
    "import string\n",
    "import joblib\n",
    "import pickle\n",
    "from nltk.stem import PorterStemmer, WordNetLemmatizer\n",
    "from nltk.corpus import stopwords\n",
    "from nltk.tokenize import word_tokenize\n",
    "from sklearn.feature_extraction.text import TfidfVectorizer\n",
    "from sklearn.feature_extraction.text import CountVectorizer\n",
    "from sklearn.metrics.pairwise import cosine_similarity\n",
    "from gensim import models\n",
    "import tensorflow as tf\n",
    "from tensorflow import keras\n",
    "from tensorflow.keras.preprocessing.text import Tokenizer\n",
    "from tensorflow.keras.preprocessing.sequence import pad_sequences\n",
    "from gensim.models.phrases import Phrases, Phraser\n",
    "from gensim.models import FastText\n",
    "import bz2file as bz2\n",
    "import os"
   ]
  },
  {
   "cell_type": "code",
   "execution_count": 7,
   "id": "621af9e6",
   "metadata": {},
   "outputs": [],
   "source": [
    "data = pd.read_csv('../data/flipkart-data.csv')"
   ]
  },
  {
   "cell_type": "code",
   "execution_count": 8,
   "id": "c27974ce",
   "metadata": {},
   "outputs": [
    {
     "data": {
      "text/html": [
       "<div>\n",
       "<style scoped>\n",
       "    .dataframe tbody tr th:only-of-type {\n",
       "        vertical-align: middle;\n",
       "    }\n",
       "\n",
       "    .dataframe tbody tr th {\n",
       "        vertical-align: top;\n",
       "    }\n",
       "\n",
       "    .dataframe thead th {\n",
       "        text-align: right;\n",
       "    }\n",
       "</style>\n",
       "<table border=\"1\" class=\"dataframe\">\n",
       "  <thead>\n",
       "    <tr style=\"text-align: right;\">\n",
       "      <th></th>\n",
       "      <th>uniq_id</th>\n",
       "      <th>crawl_timestamp</th>\n",
       "      <th>product_url</th>\n",
       "      <th>product_name</th>\n",
       "      <th>product_category_tree</th>\n",
       "      <th>pid</th>\n",
       "      <th>retail_price</th>\n",
       "      <th>discounted_price</th>\n",
       "      <th>image</th>\n",
       "      <th>is_FK_Advantage_product</th>\n",
       "      <th>description</th>\n",
       "      <th>product_rating</th>\n",
       "      <th>overall_rating</th>\n",
       "      <th>brand</th>\n",
       "      <th>product_specifications</th>\n",
       "    </tr>\n",
       "  </thead>\n",
       "  <tbody>\n",
       "    <tr>\n",
       "      <th>5484</th>\n",
       "      <td>458c697fe5824552890b0e674cf5c109</td>\n",
       "      <td>2016-05-26 23:54:46 +0000</td>\n",
       "      <td>http://www.flipkart.com/ball-ibctdc-160-2gb-dd...</td>\n",
       "      <td>I Ball IBCTDC 160/2gb/DDR2 with Dual Core 2 RA...</td>\n",
       "      <td>[\"Computers &gt;&gt; Computer Peripherals &gt;&gt; CPU &gt;&gt; ...</td>\n",
       "      <td>CPUEJ2CMBFHTTHSJ</td>\n",
       "      <td>12999.0</td>\n",
       "      <td>6990.0</td>\n",
       "      <td>[\"http://img6a.flixcart.com/image/cpu/h/s/j/i-...</td>\n",
       "      <td>False</td>\n",
       "      <td>Specifications of I Ball IBCTDC 160/2gb/DDR2 w...</td>\n",
       "      <td>No rating available</td>\n",
       "      <td>No rating available</td>\n",
       "      <td>I Ball</td>\n",
       "      <td>{\"product_specification\"=&gt;[{\"key\"=&gt;\"Processor ...</td>\n",
       "    </tr>\n",
       "  </tbody>\n",
       "</table>\n",
       "</div>"
      ],
      "text/plain": [
       "                               uniq_id            crawl_timestamp  \\\n",
       "5484  458c697fe5824552890b0e674cf5c109  2016-05-26 23:54:46 +0000   \n",
       "\n",
       "                                            product_url  \\\n",
       "5484  http://www.flipkart.com/ball-ibctdc-160-2gb-dd...   \n",
       "\n",
       "                                           product_name  \\\n",
       "5484  I Ball IBCTDC 160/2gb/DDR2 with Dual Core 2 RA...   \n",
       "\n",
       "                                  product_category_tree               pid  \\\n",
       "5484  [\"Computers >> Computer Peripherals >> CPU >> ...  CPUEJ2CMBFHTTHSJ   \n",
       "\n",
       "      retail_price  discounted_price  \\\n",
       "5484       12999.0            6990.0   \n",
       "\n",
       "                                                  image  \\\n",
       "5484  [\"http://img6a.flixcart.com/image/cpu/h/s/j/i-...   \n",
       "\n",
       "     is_FK_Advantage_product  \\\n",
       "5484                   False   \n",
       "\n",
       "                                            description       product_rating  \\\n",
       "5484  Specifications of I Ball IBCTDC 160/2gb/DDR2 w...  No rating available   \n",
       "\n",
       "           overall_rating   brand  \\\n",
       "5484  No rating available  I Ball   \n",
       "\n",
       "                                 product_specifications  \n",
       "5484  {\"product_specification\"=>[{\"key\"=>\"Processor ...  "
      ]
     },
     "execution_count": 8,
     "metadata": {},
     "output_type": "execute_result"
    }
   ],
   "source": [
    "data.sample()"
   ]
  },
  {
   "cell_type": "code",
   "execution_count": 9,
   "id": "c35456ec",
   "metadata": {},
   "outputs": [
    {
     "data": {
      "text/plain": [
       "Index(['uniq_id', 'crawl_timestamp', 'product_url', 'product_name',\n",
       "       'product_category_tree', 'pid', 'retail_price', 'discounted_price',\n",
       "       'image', 'is_FK_Advantage_product', 'description', 'product_rating',\n",
       "       'overall_rating', 'brand', 'product_specifications'],\n",
       "      dtype='object')"
      ]
     },
     "execution_count": 9,
     "metadata": {},
     "output_type": "execute_result"
    }
   ],
   "source": [
    "data.columns"
   ]
  },
  {
   "cell_type": "markdown",
   "id": "33102428",
   "metadata": {},
   "source": [
    "* ## Working Data Function"
   ]
  },
  {
   "cell_type": "code",
   "execution_count": 10,
   "id": "e31d0a99",
   "metadata": {},
   "outputs": [],
   "source": [
    "def working_data(data):\n",
    "\n",
    "    def normalize_text(text):\n",
    "        text = text.lower()  # Convert text to lowercase\n",
    "        text = re.sub('https?://\\S+|www\\.\\S+', '', text)  # Remove URLs\n",
    "        text = re.sub('[^A-Za-z0-9]+', ' ', text)  # Remove non-alphanumeric characters (special chars)\n",
    "        text = re.sub('\\n', ' ', text)  # Remove newlines\n",
    "        text = re.sub(' +', ' ', text)  # Remove extra spaces\n",
    "        text = text.strip()  # Remove leading/trailing spaces\n",
    "        return text\n",
    "       \n",
    "    def repair(text):\n",
    "        text = str(text)\n",
    "        pattern = re.compile('[\\([{})\\]]')\n",
    "        text= pattern.sub(r'',text)\n",
    "        text = text.replace('\"','')\n",
    "        text = text.replace(',','')\n",
    "        text = text.replace('&','')\n",
    "        pattern = re.compile('>>')\n",
    "        return pattern.sub(r'',text)\n",
    "    \n",
    "    def remove_stopwords(text):\n",
    "        stop_words = set(stopwords.words('english'))  # Use set for faster lookups\n",
    "        words = text.split()\n",
    "        filtered_sentence = ' '.join([word for word in words if word not in stop_words])\n",
    "        return filtered_sentence\n",
    "    \n",
    "    def remove_punctuation(text):\n",
    "        table = str.maketrans('', '', string.punctuation)  # Create translation table\n",
    "        words = text.split()\n",
    "        filtered_sentence = ' '.join([word.translate(table) for word in words])  # Efficient punctuation removal\n",
    "        return filtered_sentence\n",
    "    \n",
    "    def stemming(text):\n",
    "        text = str(text)\n",
    "        stemmer = PorterStemmer()\n",
    "        return \" \".join([stemmer.stem(word) for word in text.split()])\n",
    "    \n",
    "    def lemmatizing(text):\n",
    "        text = str(text)\n",
    "        lemmet = WordNetLemmatizer()\n",
    "        return \" \".join([lemmet.lemmatize(word) for word in text.split()])\n",
    "\n",
    "    print(\"step 1 : Cleaning product_category_tree.....\")\n",
    "    data['product_category_tree'] = data['product_category_tree'].apply(repair)\n",
    "    \n",
    "    print(\"step 2 : Cleaning description.....\")\n",
    "    data['description'] = data['description'].apply(repair)\n",
    "\n",
    "    print(\"step 3 : Creating 'desc' column.....\")\n",
    "    data['desc'] = data['product_category_tree']+data['description']\n",
    "    \n",
    "    print(\"step 4 : Normalizing 'desc' column.....\")\n",
    "    data['desc'] = data['desc'].apply(normalize_text)\n",
    "\n",
    "    print(\"step 5 : stopwords removal 'desc'.....\")\n",
    "    data['desc'] = data['desc'].apply(remove_stopwords)\n",
    "\n",
    "    print(\"step 6: Removing punctuation 'desc'.....\")\n",
    "    data['desc'] = data['desc'].apply(remove_punctuation)\n",
    "\n",
    "    print(\"step 7 : Stemming 'desc' column.....\")\n",
    "    data['desc'] = data['desc'].apply(stemming)\n",
    "    \n",
    "    print(\"step 8 : Lemmatizing 'desc' column.....\")\n",
    "    data['desc'] = data['desc'].apply(lemmatizing)\n",
    "    \n",
    "    print(\"step 9 : Dropping unnecessary columns.....\")\n",
    "    data = data.drop(['uniq_id', 'crawl_timestamp', 'product_url', 'retail_price',\n",
    "                       'discounted_price','image', 'is_FK_Advantage_product', 'product_rating',\n",
    "                       'overall_rating','brand','product_specifications','product_category_tree','description'],axis=1)\n",
    "    \n",
    "    print(\"step 10 : Dropping null values.....\")\n",
    "    data.dropna(inplace=True)\n",
    "    \n",
    "    print(\"step 11 : ReCreating 'pid' column.....\")\n",
    "    data['pid'] = range(1, 20001)\n",
    "    \n",
    "\n",
    "    return data"
   ]
  },
  {
   "cell_type": "code",
   "execution_count": 11,
   "id": "7289a7ab",
   "metadata": {},
   "outputs": [
    {
     "name": "stdout",
     "output_type": "stream",
     "text": [
      "step 1 : Cleaning product_category_tree.....\n",
      "step 2 : Cleaning description.....\n",
      "step 3 : Creating 'desc' column.....\n",
      "step 4 : Normalizing 'desc' column.....\n",
      "step 5 : stopwords removal 'desc'.....\n",
      "step 6: Removing punctuation 'desc'.....\n",
      "step 7 : Stemming 'desc' column.....\n",
      "step 8 : Lemmatizing 'desc' column.....\n",
      "step 9 : Dropping unnecessary columns.....\n",
      "step 10 : Dropping null values.....\n",
      "step 11 : ReCreating 'pid' column.....\n"
     ]
    }
   ],
   "source": [
    "working_data = working_data(data)"
   ]
  },
  {
   "cell_type": "code",
   "execution_count": 12,
   "id": "d5233e22",
   "metadata": {},
   "outputs": [
    {
     "data": {
      "text/html": [
       "<div>\n",
       "<style scoped>\n",
       "    .dataframe tbody tr th:only-of-type {\n",
       "        vertical-align: middle;\n",
       "    }\n",
       "\n",
       "    .dataframe tbody tr th {\n",
       "        vertical-align: top;\n",
       "    }\n",
       "\n",
       "    .dataframe thead th {\n",
       "        text-align: right;\n",
       "    }\n",
       "</style>\n",
       "<table border=\"1\" class=\"dataframe\">\n",
       "  <thead>\n",
       "    <tr style=\"text-align: right;\">\n",
       "      <th></th>\n",
       "      <th>product_name</th>\n",
       "      <th>pid</th>\n",
       "      <th>desc</th>\n",
       "    </tr>\n",
       "  </thead>\n",
       "  <tbody>\n",
       "    <tr>\n",
       "      <th>12577</th>\n",
       "      <td>Kiosha Women's Solid Casual Shirt</td>\n",
       "      <td>12578</td>\n",
       "      <td>cloth woman cloth western wear shirt top tunic...</td>\n",
       "    </tr>\n",
       "    <tr>\n",
       "      <th>821</th>\n",
       "      <td>Parron Men's Solid Casual Shirt</td>\n",
       "      <td>822</td>\n",
       "      <td>cloth men cloth shirt casual parti wear shirt ...</td>\n",
       "    </tr>\n",
       "    <tr>\n",
       "      <th>580</th>\n",
       "      <td>Fundoo T Full Sleeve Solid Men's Sweatshirt</td>\n",
       "      <td>581</td>\n",
       "      <td>cloth men cloth winter season wear sweatshirt ...</td>\n",
       "    </tr>\n",
       "    <tr>\n",
       "      <th>14227</th>\n",
       "      <td>Ocean Race Solid Men's Round Neck T-Shirt</td>\n",
       "      <td>14228</td>\n",
       "      <td>cloth men cloth shirt ocean race shirtsocean r...</td>\n",
       "    </tr>\n",
       "    <tr>\n",
       "      <th>8382</th>\n",
       "      <td>Amscan 110215 Plastic Weight Sled</td>\n",
       "      <td>8383</td>\n",
       "      <td>sport fit track field amscan track fieldamscan...</td>\n",
       "    </tr>\n",
       "  </tbody>\n",
       "</table>\n",
       "</div>"
      ],
      "text/plain": [
       "                                      product_name    pid  \\\n",
       "12577            Kiosha Women's Solid Casual Shirt  12578   \n",
       "821                Parron Men's Solid Casual Shirt    822   \n",
       "580    Fundoo T Full Sleeve Solid Men's Sweatshirt    581   \n",
       "14227    Ocean Race Solid Men's Round Neck T-Shirt  14228   \n",
       "8382             Amscan 110215 Plastic Weight Sled   8383   \n",
       "\n",
       "                                                    desc  \n",
       "12577  cloth woman cloth western wear shirt top tunic...  \n",
       "821    cloth men cloth shirt casual parti wear shirt ...  \n",
       "580    cloth men cloth winter season wear sweatshirt ...  \n",
       "14227  cloth men cloth shirt ocean race shirtsocean r...  \n",
       "8382   sport fit track field amscan track fieldamscan...  "
      ]
     },
     "execution_count": 12,
     "metadata": {},
     "output_type": "execute_result"
    }
   ],
   "source": [
    "working_data.sample(5)"
   ]
  },
  {
   "cell_type": "markdown",
   "id": "78341107",
   "metadata": {},
   "source": [
    "* ## Bag of Words function"
   ]
  },
  {
   "cell_type": "code",
   "execution_count": 13,
   "id": "b698f643",
   "metadata": {},
   "outputs": [],
   "source": [
    "def bag_of_words(data):\n",
    "    print(\"Creating bag of words matrix.....\")\n",
    "    bow_vectorizer = CountVectorizer(stop_words='english')\n",
    "    bow_matrix = bow_vectorizer.fit_transform(data['desc']).toarray()\n",
    "    return bow_matrix, bow_vectorizer"
   ]
  },
  {
   "cell_type": "code",
   "execution_count": 14,
   "id": "6522048f",
   "metadata": {},
   "outputs": [
    {
     "name": "stdout",
     "output_type": "stream",
     "text": [
      "Creating bag of words matrix.....\n"
     ]
    }
   ],
   "source": [
    "bow_matrix, bow_vectorizer = bag_of_words(working_data)"
   ]
  },
  {
   "cell_type": "code",
   "execution_count": 15,
   "id": "fb1bcf5b",
   "metadata": {},
   "outputs": [
    {
     "data": {
      "text/plain": [
       "(20000, 27405)"
      ]
     },
     "execution_count": 15,
     "metadata": {},
     "output_type": "execute_result"
    }
   ],
   "source": [
    "bow_matrix.shape"
   ]
  },
  {
   "cell_type": "markdown",
   "id": "1d9ed53f",
   "metadata": {},
   "source": [
    "* ## Similarity-Matrix function"
   ]
  },
  {
   "cell_type": "code",
   "execution_count": 16,
   "id": "f38913f0",
   "metadata": {},
   "outputs": [],
   "source": [
    "def similarity_matrix(matrix):\n",
    "    print(\"Calculating similarity matrix.....\")\n",
    "    similarity_matrix = cosine_similarity(matrix)\n",
    "    return similarity_matrix"
   ]
  },
  {
   "cell_type": "code",
   "execution_count": 17,
   "id": "8e0d018c",
   "metadata": {},
   "outputs": [
    {
     "name": "stdout",
     "output_type": "stream",
     "text": [
      "Calculating similarity matrix.....\n"
     ]
    }
   ],
   "source": [
    "similarity_matrix_bow = similarity_matrix(bow_matrix)"
   ]
  },
  {
   "cell_type": "markdown",
   "id": "7f835067",
   "metadata": {},
   "source": [
    "* ## Recommend function"
   ]
  },
  {
   "cell_type": "code",
   "execution_count": 18,
   "id": "af2ad141",
   "metadata": {},
   "outputs": [],
   "source": [
    "def recommend_products(product,similarity_model):\n",
    "    product_index = data[data['product_name'] == product].index[0]\n",
    "    distances = similarity_model[product_index]\n",
    "    product_list = sorted(list(enumerate(distances)),reverse=True,key=lambda x: x[1])[1:6]\n",
    "    output={}\n",
    "    name_list = []\n",
    "    sim_list = []\n",
    "    for x in product_list:\n",
    "        prod_name = data.iloc[x[0]].product_name\n",
    "        name_list.append(prod_name)\n",
    "        prod_sim = np.round((x[1]*100),2)\n",
    "        sim_list.append(prod_sim)\n",
    "        \n",
    "    print('Checked Product :::::   ',product)    \n",
    "    name_list=np.array(name_list)\n",
    "    sim_list=np.array(sim_list)\n",
    "    dat = np.reshape([[name_list],[sim_list]],(2,5))\n",
    "    df = pd.DataFrame(dat.T,columns=['Recommended Product','Similarity(%age)'],index=[0,1,2,3,4])\n",
    "    return df"
   ]
  },
  {
   "cell_type": "markdown",
   "id": "46a4bf2f",
   "metadata": {},
   "source": [
    "* ## Recommended output"
   ]
  },
  {
   "cell_type": "code",
   "execution_count": 19,
   "id": "e23bd889",
   "metadata": {},
   "outputs": [
    {
     "name": "stdout",
     "output_type": "stream",
     "text": [
      "Checked Product :::::    Rorlig RR-028 Expedition Analog Watch  - For Men, Boys\n"
     ]
    },
    {
     "data": {
      "text/html": [
       "<div>\n",
       "<style scoped>\n",
       "    .dataframe tbody tr th:only-of-type {\n",
       "        vertical-align: middle;\n",
       "    }\n",
       "\n",
       "    .dataframe tbody tr th {\n",
       "        vertical-align: top;\n",
       "    }\n",
       "\n",
       "    .dataframe thead th {\n",
       "        text-align: right;\n",
       "    }\n",
       "</style>\n",
       "<table border=\"1\" class=\"dataframe\">\n",
       "  <thead>\n",
       "    <tr style=\"text-align: right;\">\n",
       "      <th></th>\n",
       "      <th>Recommended Product</th>\n",
       "      <th>Similarity(%age)</th>\n",
       "    </tr>\n",
       "  </thead>\n",
       "  <tbody>\n",
       "    <tr>\n",
       "      <th>0</th>\n",
       "      <td>Rorlig RR-030 Essentials Analog Watch  - For M...</td>\n",
       "      <td>97.69</td>\n",
       "    </tr>\n",
       "    <tr>\n",
       "      <th>1</th>\n",
       "      <td>Ridas 1825_black Sports Analog Watch  - For Men</td>\n",
       "      <td>59.93</td>\n",
       "    </tr>\n",
       "    <tr>\n",
       "      <th>2</th>\n",
       "      <td>Texus TXMW93 Black Analog Watch  - For Men, Boys</td>\n",
       "      <td>52.96</td>\n",
       "    </tr>\n",
       "    <tr>\n",
       "      <th>3</th>\n",
       "      <td>Desire PT-362 Analog Watch  - For Men</td>\n",
       "      <td>52.64</td>\n",
       "    </tr>\n",
       "    <tr>\n",
       "      <th>4</th>\n",
       "      <td>Fastrack 9912PP15 Tees Analog Watch  - For Men...</td>\n",
       "      <td>52.31</td>\n",
       "    </tr>\n",
       "  </tbody>\n",
       "</table>\n",
       "</div>"
      ],
      "text/plain": [
       "                                 Recommended Product Similarity(%age)\n",
       "0  Rorlig RR-030 Essentials Analog Watch  - For M...            97.69\n",
       "1    Ridas 1825_black Sports Analog Watch  - For Men            59.93\n",
       "2   Texus TXMW93 Black Analog Watch  - For Men, Boys            52.96\n",
       "3              Desire PT-362 Analog Watch  - For Men            52.64\n",
       "4  Fastrack 9912PP15 Tees Analog Watch  - For Men...            52.31"
      ]
     },
     "execution_count": 19,
     "metadata": {},
     "output_type": "execute_result"
    }
   ],
   "source": [
    "product = data.iloc[100].product_name\n",
    "recommend_products(product,similarity_matrix_bow)"
   ]
  },
  {
   "cell_type": "markdown",
   "id": "2c6ad983",
   "metadata": {},
   "source": [
    "* ## Export Model"
   ]
  },
  {
   "cell_type": "code",
   "execution_count": 20,
   "id": "5dce75f5",
   "metadata": {},
   "outputs": [],
   "source": [
    "pickle.dump(similarity_matrix_bow,open('../models/similarity_bow.pkl','wb'))"
   ]
  },
  {
   "cell_type": "code",
   "execution_count": 21,
   "id": "fe3f41c4",
   "metadata": {},
   "outputs": [
    {
     "name": "stdout",
     "output_type": "stream",
     "text": [
      "3200000163\n"
     ]
    }
   ],
   "source": [
    "print(os.path.getsize(\"../models/similarity_bow.pkl\"))"
   ]
  },
  {
   "cell_type": "code",
   "execution_count": 22,
   "id": "30ce1d9a",
   "metadata": {},
   "outputs": [],
   "source": [
    "ofile = bz2.BZ2File(\"../models/similarity_bow\",'wb')\n",
    "pickle.dump(similarity_matrix_bow,ofile)\n",
    "ofile.close()\n",
    " "
   ]
  },
  {
   "cell_type": "code",
   "execution_count": 24,
   "id": "0a1f4e4b",
   "metadata": {},
   "outputs": [
    {
     "name": "stdout",
     "output_type": "stream",
     "text": [
      "930622822\n"
     ]
    }
   ],
   "source": [
    "print(os.path.getsize(\"../models/similarity_bow\"))"
   ]
  },
  {
   "cell_type": "code",
   "execution_count": null,
   "id": "6a6cdb12",
   "metadata": {},
   "outputs": [],
   "source": []
  }
 ],
 "metadata": {
  "kernelspec": {
   "display_name": "test_env",
   "language": "python",
   "name": "python3"
  },
  "language_info": {
   "codemirror_mode": {
    "name": "ipython",
    "version": 3
   },
   "file_extension": ".py",
   "mimetype": "text/x-python",
   "name": "python",
   "nbconvert_exporter": "python",
   "pygments_lexer": "ipython3",
   "version": "3.11.11"
  }
 },
 "nbformat": 4,
 "nbformat_minor": 5
}
